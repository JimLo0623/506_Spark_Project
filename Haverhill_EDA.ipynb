{
 "cells": [
  {
   "cell_type": "code",
   "execution_count": 1017,
   "metadata": {},
   "outputs": [],
   "source": [
    "import pandas as pd\n",
    "import numpy as np\n",
    "import seaborn as sns\n",
    "import matplotlib.pyplot as plt\n",
    "import plotly.graph_objects as go\n",
    "import plotly.offline as pyo\n",
    "import folium\n",
    "%matplotlib inline\n",
    "import datetime"
   ]
  },
  {
   "cell_type": "code",
   "execution_count": 1018,
   "metadata": {},
   "outputs": [],
   "source": [
    "df = pd.read_csv('haverhill-request.csv', encoding = \"ISO-8859–1\")"
   ]
  },
  {
   "cell_type": "code",
   "execution_count": 1019,
   "metadata": {},
   "outputs": [
    {
     "data": {
      "text/plain": [
       "Index(['Request ID', 'Create Date', 'Master Request', 'Has Links', 'Status',\n",
       "       'Status Code', 'Last Action', 'Last Change', 'Close Date',\n",
       "       'Work Order Created', 'Request Type ID', 'Request Type',\n",
       "       'Request Type Private', 'Request Type Info', 'Department ID',\n",
       "       'Department', 'Address Number', 'Street ID', 'Street', 'Address',\n",
       "       'Complete Address', 'City ID', 'City', 'Cross Street ID',\n",
       "       'Cross Street', 'District ID', 'District', 'Escalations', 'Priority',\n",
       "       'Longitude', 'Latitude', 'Origin ID', 'Origin'],\n",
       "      dtype='object')"
      ]
     },
     "execution_count": 1019,
     "metadata": {},
     "output_type": "execute_result"
    }
   ],
   "source": [
    "df.columns"
   ]
  },
  {
   "cell_type": "code",
   "execution_count": 1020,
   "metadata": {},
   "outputs": [],
   "source": [
    "keep = [ 'Create Date', 'Status', 'Close Date', 'Request Type', 'Complete Address', 'Longitude', 'Latitude','Origin']"
   ]
  },
  {
   "cell_type": "code",
   "execution_count": 1021,
   "metadata": {},
   "outputs": [],
   "source": [
    "df = df[keep]"
   ]
  },
  {
   "cell_type": "code",
   "execution_count": 1022,
   "metadata": {},
   "outputs": [
    {
     "data": {
      "text/plain": [
       "0.7172566371681416"
      ]
     },
     "execution_count": 1022,
     "metadata": {},
     "output_type": "execute_result"
    }
   ],
   "source": [
    "df['Request Type'].value_counts().nlargest(6).sum()/df.shape[0]"
   ]
  },
  {
   "cell_type": "code",
   "execution_count": 1023,
   "metadata": {},
   "outputs": [
    {
     "data": {
      "text/plain": [
       "Index(['A - Information Other', 'A - Transfer Inspections',\n",
       "       'A - Transfer Other', 'A - Transfer Treasurer',\n",
       "       'A - Information Treasurer ', 'A - Transfer Assessor',\n",
       "       'Highway - Pothole', 'A - Information Assessor',\n",
       "       'Snow Removal Issues - Sanding Request',\n",
       "       'Tree Issues - City Owned Tree Issue',\n",
       "       'Snow Removal Issues - Replow Request', 'TRASH - Missed Pick Up',\n",
       "       'Traffic/Street Lights - Street Light Repair',\n",
       "       'A - Information Inspections'],\n",
       "      dtype='object')"
      ]
     },
     "execution_count": 1023,
     "metadata": {},
     "output_type": "execute_result"
    }
   ],
   "source": [
    "df['Request Type'].value_counts().nlargest(14).index"
   ]
  },
  {
   "cell_type": "code",
   "execution_count": 1024,
   "metadata": {},
   "outputs": [
    {
     "data": {
      "text/html": [
       "<div>\n",
       "<style scoped>\n",
       "    .dataframe tbody tr th:only-of-type {\n",
       "        vertical-align: middle;\n",
       "    }\n",
       "\n",
       "    .dataframe tbody tr th {\n",
       "        vertical-align: top;\n",
       "    }\n",
       "\n",
       "    .dataframe thead th {\n",
       "        text-align: right;\n",
       "    }\n",
       "</style>\n",
       "<table border=\"1\" class=\"dataframe\">\n",
       "  <thead>\n",
       "    <tr style=\"text-align: right;\">\n",
       "      <th></th>\n",
       "      <th>Request Type</th>\n",
       "      <th>index</th>\n",
       "      <th>Create Date</th>\n",
       "      <th>Status</th>\n",
       "      <th>Close Date</th>\n",
       "      <th>Complete Address</th>\n",
       "      <th>Longitude</th>\n",
       "      <th>Latitude</th>\n",
       "      <th>Origin</th>\n",
       "    </tr>\n",
       "  </thead>\n",
       "  <tbody>\n",
       "    <tr>\n",
       "      <th>0</th>\n",
       "      <td>Traffic/Street Lights - Street Light Repair - ...</td>\n",
       "      <td>0</td>\n",
       "      <td>2017-01-03 13:11:00</td>\n",
       "      <td>Closed</td>\n",
       "      <td>2017-01-03 14:05:00</td>\n",
       "      <td>JUSTIN ST, Haverhill, MA</td>\n",
       "      <td>-71.105902</td>\n",
       "      <td>42.767552</td>\n",
       "      <td>Call Center</td>\n",
       "    </tr>\n",
       "    <tr>\n",
       "      <th>1</th>\n",
       "      <td>Snow Removal Issues - Sanding Request</td>\n",
       "      <td>10</td>\n",
       "      <td>2017-01-03 14:18:00</td>\n",
       "      <td>Closed</td>\n",
       "      <td>2017-01-03 18:08:00</td>\n",
       "      <td>SOLITAIRE DR, Haverhill, MA</td>\n",
       "      <td>-71.073723</td>\n",
       "      <td>42.804261</td>\n",
       "      <td>Call Center</td>\n",
       "    </tr>\n",
       "    <tr>\n",
       "      <th>2</th>\n",
       "      <td>Traffic/Street Lights - Street Light Repair - ...</td>\n",
       "      <td>12</td>\n",
       "      <td>2017-01-03 14:27:00</td>\n",
       "      <td>Closed</td>\n",
       "      <td>2017-06-23 16:10:00</td>\n",
       "      <td>LAKEVIEW AVE, Haverhill, MA</td>\n",
       "      <td>-71.083366</td>\n",
       "      <td>42.795998</td>\n",
       "      <td>Call Center</td>\n",
       "    </tr>\n",
       "    <tr>\n",
       "      <th>3</th>\n",
       "      <td>Poor Property Maintenance</td>\n",
       "      <td>13</td>\n",
       "      <td>2017-01-03 14:45:00</td>\n",
       "      <td>In Progress</td>\n",
       "      <td>NaN</td>\n",
       "      <td>44 JACKSON ST, Haverhill, MA</td>\n",
       "      <td>-71.091456</td>\n",
       "      <td>42.773071</td>\n",
       "      <td>Call Center</td>\n",
       "    </tr>\n",
       "    <tr>\n",
       "      <th>4</th>\n",
       "      <td>Highway - Pothole</td>\n",
       "      <td>15</td>\n",
       "      <td>2017-01-03 14:51:00</td>\n",
       "      <td>Closed</td>\n",
       "      <td>2017-01-17 16:37:00</td>\n",
       "      <td>114- 116 BOARDMAN ST, Haverhill, MA</td>\n",
       "      <td>-71.061722</td>\n",
       "      <td>42.774201</td>\n",
       "      <td>Call Center</td>\n",
       "    </tr>\n",
       "  </tbody>\n",
       "</table>\n",
       "</div>"
      ],
      "text/plain": [
       "                                        Request Type  index  \\\n",
       "0  Traffic/Street Lights - Street Light Repair - ...      0   \n",
       "1              Snow Removal Issues - Sanding Request     10   \n",
       "2  Traffic/Street Lights - Street Light Repair - ...     12   \n",
       "3                          Poor Property Maintenance     13   \n",
       "4                                  Highway - Pothole     15   \n",
       "\n",
       "           Create Date       Status           Close Date  \\\n",
       "0  2017-01-03 13:11:00       Closed  2017-01-03 14:05:00   \n",
       "1  2017-01-03 14:18:00       Closed  2017-01-03 18:08:00   \n",
       "2  2017-01-03 14:27:00       Closed  2017-06-23 16:10:00   \n",
       "3  2017-01-03 14:45:00  In Progress                  NaN   \n",
       "4  2017-01-03 14:51:00       Closed  2017-01-17 16:37:00   \n",
       "\n",
       "                      Complete Address  Longitude   Latitude       Origin  \n",
       "0             JUSTIN ST, Haverhill, MA -71.105902  42.767552  Call Center  \n",
       "1          SOLITAIRE DR, Haverhill, MA -71.073723  42.804261  Call Center  \n",
       "2          LAKEVIEW AVE, Haverhill, MA -71.083366  42.795998  Call Center  \n",
       "3         44 JACKSON ST, Haverhill, MA -71.091456  42.773071  Call Center  \n",
       "4  114- 116 BOARDMAN ST, Haverhill, MA -71.061722  42.774201  Call Center  "
      ]
     },
     "execution_count": 1024,
     "metadata": {},
     "output_type": "execute_result"
    }
   ],
   "source": [
    "# Removing 'Request Types that don't give enough information\n",
    "\n",
    "df_filtered = df.reset_index()\n",
    "df_filtered = df_filtered.set_index('Request Type',drop = True) #Setting index as Request Type\n",
    "remove_rt = ['A - Information Other', 'A - Transfer Inspections','A - Transfer Other',\n",
    "             'A - Transfer Treasurer','A - Information Treasurer ','A - Transfer Assessor',\n",
    "            'A - Information Assessor','A - Information Inspections'] #removing index \n",
    "\n",
    "for val in remove_rt:    \n",
    "    df_filtered = df_filtered.drop(val)\n",
    "    \n",
    "df_filtered = df_filtered.reset_index()    \n",
    "df_filtered.head()"
   ]
  },
  {
   "cell_type": "markdown",
   "metadata": {},
   "source": [
    "# Exploratory Data Analysis"
   ]
  },
  {
   "cell_type": "code",
   "execution_count": 1025,
   "metadata": {},
   "outputs": [
    {
     "data": {
      "text/plain": [
       "Request Type           0\n",
       "index                  0\n",
       "Create Date            0\n",
       "Status                 0\n",
       "Close Date          2416\n",
       "Complete Address       0\n",
       "Longitude              0\n",
       "Latitude               0\n",
       "Origin                 0\n",
       "dtype: int64"
      ]
     },
     "execution_count": 1025,
     "metadata": {},
     "output_type": "execute_result"
    }
   ],
   "source": [
    "df_filtered.isnull().sum()"
   ]
  },
  {
   "cell_type": "code",
   "execution_count": 1026,
   "metadata": {},
   "outputs": [
    {
     "name": "stdout",
     "output_type": "stream",
     "text": [
      "<class 'pandas.core.frame.DataFrame'>\n",
      "RangeIndex: 17645 entries, 0 to 17644\n",
      "Data columns (total 9 columns):\n",
      "Request Type        17645 non-null object\n",
      "index               17645 non-null int64\n",
      "Create Date         17645 non-null object\n",
      "Status              17645 non-null object\n",
      "Close Date          15229 non-null object\n",
      "Complete Address    17645 non-null object\n",
      "Longitude           17645 non-null float64\n",
      "Latitude            17645 non-null float64\n",
      "Origin              17645 non-null object\n",
      "dtypes: float64(2), int64(1), object(6)\n",
      "memory usage: 1.2+ MB\n"
     ]
    }
   ],
   "source": [
    "df_filtered.info()"
   ]
  },
  {
   "cell_type": "code",
   "execution_count": 1108,
   "metadata": {},
   "outputs": [],
   "source": [
    "# Convert to datetime\n",
    "df_filtered['Create Date'] = pd.to_datetime(df_filtered['Create Date'])\n",
    "df_filtered['Close Date'] = pd.to_datetime(df_filtered['Close Date'])\n",
    "df_filtered['Days_to_close'] = df_filtered['Close Date'] - df_filtered['Create Date']\n",
    "df_filtered['year'] = df_filtered['Create Date'].apply(lambda x: int(x.year))\n",
    "df_filtered['month'] = df_filtered['Create Date'].apply(lambda x: x.month)"
   ]
  },
  {
   "cell_type": "code",
   "execution_count": 1109,
   "metadata": {},
   "outputs": [
    {
     "data": {
      "text/html": [
       "<div>\n",
       "<style scoped>\n",
       "    .dataframe tbody tr th:only-of-type {\n",
       "        vertical-align: middle;\n",
       "    }\n",
       "\n",
       "    .dataframe tbody tr th {\n",
       "        vertical-align: top;\n",
       "    }\n",
       "\n",
       "    .dataframe thead th {\n",
       "        text-align: right;\n",
       "    }\n",
       "</style>\n",
       "<table border=\"1\" class=\"dataframe\">\n",
       "  <thead>\n",
       "    <tr style=\"text-align: right;\">\n",
       "      <th></th>\n",
       "      <th>Request Type</th>\n",
       "      <th>index</th>\n",
       "      <th>Create Date</th>\n",
       "      <th>Status</th>\n",
       "      <th>Close Date</th>\n",
       "      <th>Complete Address</th>\n",
       "      <th>Longitude</th>\n",
       "      <th>Latitude</th>\n",
       "      <th>Origin</th>\n",
       "      <th>Days_to_close</th>\n",
       "      <th>year</th>\n",
       "      <th>month</th>\n",
       "    </tr>\n",
       "  </thead>\n",
       "  <tbody>\n",
       "    <tr>\n",
       "      <th>0</th>\n",
       "      <td>Traffic/Street Lights - Street Light Repair - ...</td>\n",
       "      <td>0</td>\n",
       "      <td>2017-01-03 13:11:00</td>\n",
       "      <td>Closed</td>\n",
       "      <td>2017-01-03 14:05:00</td>\n",
       "      <td>JUSTIN ST, Haverhill, MA</td>\n",
       "      <td>-71.105902</td>\n",
       "      <td>42.767552</td>\n",
       "      <td>Call Center</td>\n",
       "      <td>00:54:00</td>\n",
       "      <td>2017</td>\n",
       "      <td>1</td>\n",
       "    </tr>\n",
       "  </tbody>\n",
       "</table>\n",
       "</div>"
      ],
      "text/plain": [
       "                                        Request Type  index  \\\n",
       "0  Traffic/Street Lights - Street Light Repair - ...      0   \n",
       "\n",
       "          Create Date  Status          Close Date          Complete Address  \\\n",
       "0 2017-01-03 13:11:00  Closed 2017-01-03 14:05:00  JUSTIN ST, Haverhill, MA   \n",
       "\n",
       "   Longitude   Latitude       Origin Days_to_close  year  month  \n",
       "0 -71.105902  42.767552  Call Center      00:54:00  2017      1  "
      ]
     },
     "execution_count": 1109,
     "metadata": {},
     "output_type": "execute_result"
    }
   ],
   "source": [
    "df_filtered.head(1)"
   ]
  },
  {
   "cell_type": "code",
   "execution_count": 1110,
   "metadata": {},
   "outputs": [],
   "source": [
    "df_filtered['Request Type'].value_counts().nlargest(5)\n",
    "\n",
    "top5index = df_filtered['Request Type'].value_counts().nlargest(5).index\n"
   ]
  },
  {
   "cell_type": "code",
   "execution_count": 1111,
   "metadata": {},
   "outputs": [],
   "source": [
    "df_filtered_top = df_filtered[df_filtered['Request Type'].isin(top5index)]"
   ]
  },
  {
   "cell_type": "code",
   "execution_count": 1130,
   "metadata": {},
   "outputs": [
    {
     "data": {
      "image/png": "[encoded data removed]",
      "text/plain": [
       "<Figure size 1296x720 with 1 Axes>"
      ]
     },
     "metadata": {
      "needs_background": "light"
     },
     "output_type": "display_data"
    }
   ],
   "source": [
    "# Top 5 problems , hue = year\n",
    "\n",
    "figure ,axes = plt.subplots(1,1, figsize=(18, 10))\n",
    "\n",
    "sns_plot = sns.countplot(x = 'Request Type',\n",
    "           data = df_filtered_top,\n",
    "           order = df_filtered_top['Request Type'].value_counts().index, hue = df_filtered_top['year'])\n",
    "\n",
    "fig = sns_plot.get_figure()\n",
    "\n",
    "fig.savefig(\"Top5_yearly.png\")"
   ]
  },
  {
   "cell_type": "code",
   "execution_count": 1168,
   "metadata": {},
   "outputs": [],
   "source": [
    "#Data frame for time analyses\n",
    "df_by_time = df_filtered.sort_values('Days_to_close', ascending= False)"
   ]
  },
  {
   "cell_type": "code",
   "execution_count": 1169,
   "metadata": {},
   "outputs": [],
   "source": [
    "df_by_time = df_by_time.dropna()"
   ]
  },
  {
   "cell_type": "code",
   "execution_count": 1170,
   "metadata": {},
   "outputs": [
    {
     "data": {
      "text/html": [
       "<div>\n",
       "<style scoped>\n",
       "    .dataframe tbody tr th:only-of-type {\n",
       "        vertical-align: middle;\n",
       "    }\n",
       "\n",
       "    .dataframe tbody tr th {\n",
       "        vertical-align: top;\n",
       "    }\n",
       "\n",
       "    .dataframe thead th {\n",
       "        text-align: right;\n",
       "    }\n",
       "</style>\n",
       "<table border=\"1\" class=\"dataframe\">\n",
       "  <thead>\n",
       "    <tr style=\"text-align: right;\">\n",
       "      <th></th>\n",
       "      <th>Request Type</th>\n",
       "      <th>index</th>\n",
       "      <th>Create Date</th>\n",
       "      <th>Status</th>\n",
       "      <th>Close Date</th>\n",
       "      <th>Complete Address</th>\n",
       "      <th>Longitude</th>\n",
       "      <th>Latitude</th>\n",
       "      <th>Origin</th>\n",
       "      <th>Days_to_close</th>\n",
       "      <th>year</th>\n",
       "      <th>month</th>\n",
       "    </tr>\n",
       "  </thead>\n",
       "  <tbody>\n",
       "    <tr>\n",
       "      <th>2296</th>\n",
       "      <td>Highway - Line Painting</td>\n",
       "      <td>8966</td>\n",
       "      <td>2017-06-09 19:48:00</td>\n",
       "      <td>Closed</td>\n",
       "      <td>2019-09-09 13:52:00</td>\n",
       "      <td>9 VARNUM ST, Haverhill, MA</td>\n",
       "      <td>-71.094332</td>\n",
       "      <td>42.767815</td>\n",
       "      <td>Call Center</td>\n",
       "      <td>821 days 18:04:00</td>\n",
       "      <td>2017</td>\n",
       "      <td>6</td>\n",
       "    </tr>\n",
       "    <tr>\n",
       "      <th>861</th>\n",
       "      <td>Parks &amp; Recreation</td>\n",
       "      <td>3244</td>\n",
       "      <td>2017-02-27 20:50:00</td>\n",
       "      <td>Closed</td>\n",
       "      <td>2019-05-08 14:05:00</td>\n",
       "      <td>HILLDALE AVE, Haverhill, MA</td>\n",
       "      <td>-71.108745</td>\n",
       "      <td>42.794623</td>\n",
       "      <td>Call Center</td>\n",
       "      <td>799 days 17:15:00</td>\n",
       "      <td>2017</td>\n",
       "      <td>2</td>\n",
       "    </tr>\n",
       "    <tr>\n",
       "      <th>171</th>\n",
       "      <td>Graffiti - Private Property</td>\n",
       "      <td>959</td>\n",
       "      <td>2017-01-20 18:50:00</td>\n",
       "      <td>Closed</td>\n",
       "      <td>2019-03-21 17:53:00</td>\n",
       "      <td>WHITE ST, Haverhill, MA</td>\n",
       "      <td>-71.079825</td>\n",
       "      <td>42.779773</td>\n",
       "      <td>Call Center</td>\n",
       "      <td>789 days 23:03:00</td>\n",
       "      <td>2017</td>\n",
       "      <td>1</td>\n",
       "    </tr>\n",
       "    <tr>\n",
       "      <th>1248</th>\n",
       "      <td>Highway - Sidewalk Request</td>\n",
       "      <td>4488</td>\n",
       "      <td>2017-03-17 16:17:00</td>\n",
       "      <td>Closed</td>\n",
       "      <td>2019-05-09 13:28:00</td>\n",
       "      <td>PILLING ST, Haverhill, MA</td>\n",
       "      <td>-71.096105</td>\n",
       "      <td>42.773901</td>\n",
       "      <td>Call Center</td>\n",
       "      <td>782 days 21:11:00</td>\n",
       "      <td>2017</td>\n",
       "      <td>3</td>\n",
       "    </tr>\n",
       "    <tr>\n",
       "      <th>2767</th>\n",
       "      <td>Stormwater/Sewer - Catch Basin Cleaning</td>\n",
       "      <td>10941</td>\n",
       "      <td>2017-07-19 14:09:00</td>\n",
       "      <td>Closed</td>\n",
       "      <td>2019-08-26 10:30:00</td>\n",
       "      <td>DAVIS ST, Haverhill, MA</td>\n",
       "      <td>-71.097590</td>\n",
       "      <td>42.768628</td>\n",
       "      <td>Call Center</td>\n",
       "      <td>767 days 20:21:00</td>\n",
       "      <td>2017</td>\n",
       "      <td>7</td>\n",
       "    </tr>\n",
       "    <tr>\n",
       "      <th>2361</th>\n",
       "      <td>Highway - Crosswalk</td>\n",
       "      <td>9282</td>\n",
       "      <td>2017-06-16 13:53:00</td>\n",
       "      <td>Closed</td>\n",
       "      <td>2019-07-23 13:41:00</td>\n",
       "      <td>JORDAN ST, Haverhill, MA</td>\n",
       "      <td>-71.043490</td>\n",
       "      <td>42.766460</td>\n",
       "      <td>Call Center</td>\n",
       "      <td>766 days 23:48:00</td>\n",
       "      <td>2017</td>\n",
       "      <td>6</td>\n",
       "    </tr>\n",
       "  </tbody>\n",
       "</table>\n",
       "</div>"
      ],
      "text/plain": [
       "                                 Request Type  index         Create Date  \\\n",
       "2296                  Highway - Line Painting   8966 2017-06-09 19:48:00   \n",
       "861                        Parks & Recreation   3244 2017-02-27 20:50:00   \n",
       "171               Graffiti - Private Property    959 2017-01-20 18:50:00   \n",
       "1248               Highway - Sidewalk Request   4488 2017-03-17 16:17:00   \n",
       "2767  Stormwater/Sewer - Catch Basin Cleaning  10941 2017-07-19 14:09:00   \n",
       "2361                      Highway - Crosswalk   9282 2017-06-16 13:53:00   \n",
       "\n",
       "      Status          Close Date             Complete Address  Longitude  \\\n",
       "2296  Closed 2019-09-09 13:52:00   9 VARNUM ST, Haverhill, MA -71.094332   \n",
       "861   Closed 2019-05-08 14:05:00  HILLDALE AVE, Haverhill, MA -71.108745   \n",
       "171   Closed 2019-03-21 17:53:00      WHITE ST, Haverhill, MA -71.079825   \n",
       "1248  Closed 2019-05-09 13:28:00    PILLING ST, Haverhill, MA -71.096105   \n",
       "2767  Closed 2019-08-26 10:30:00      DAVIS ST, Haverhill, MA -71.097590   \n",
       "2361  Closed 2019-07-23 13:41:00     JORDAN ST, Haverhill, MA -71.043490   \n",
       "\n",
       "       Latitude       Origin     Days_to_close  year  month  \n",
       "2296  42.767815  Call Center 821 days 18:04:00  2017      6  \n",
       "861   42.794623  Call Center 799 days 17:15:00  2017      2  \n",
       "171   42.779773  Call Center 789 days 23:03:00  2017      1  \n",
       "1248  42.773901  Call Center 782 days 21:11:00  2017      3  \n",
       "2767  42.768628  Call Center 767 days 20:21:00  2017      7  \n",
       "2361  42.766460  Call Center 766 days 23:48:00  2017      6  "
      ]
     },
     "execution_count": 1170,
     "metadata": {},
     "output_type": "execute_result"
    }
   ],
   "source": [
    "df_by_time.head(6)"
   ]
  },
  {
   "cell_type": "code",
   "execution_count": 1171,
   "metadata": {
    "scrolled": true
   },
   "outputs": [],
   "source": [
    "df_by_time['Days_to_close'] = df_by_time['Days_to_close'].apply(lambda x: int(x.days))\n",
    "grouped = df_by_time.groupby('Request Type').mean()"
   ]
  },
  {
   "cell_type": "code",
   "execution_count": 1172,
   "metadata": {},
   "outputs": [],
   "source": [
    "top_5_2 = grouped.sort_values(by = 'Days_to_close',ascending = False).head(5)\n"
   ]
  },
  {
   "cell_type": "code",
   "execution_count": 1173,
   "metadata": {},
   "outputs": [
    {
     "data": {
      "text/html": [
       "<div>\n",
       "<style scoped>\n",
       "    .dataframe tbody tr th:only-of-type {\n",
       "        vertical-align: middle;\n",
       "    }\n",
       "\n",
       "    .dataframe tbody tr th {\n",
       "        vertical-align: top;\n",
       "    }\n",
       "\n",
       "    .dataframe thead th {\n",
       "        text-align: right;\n",
       "    }\n",
       "</style>\n",
       "<table border=\"1\" class=\"dataframe\">\n",
       "  <thead>\n",
       "    <tr style=\"text-align: right;\">\n",
       "      <th></th>\n",
       "      <th>index</th>\n",
       "      <th>Longitude</th>\n",
       "      <th>Latitude</th>\n",
       "      <th>Days_to_close</th>\n",
       "      <th>year</th>\n",
       "      <th>month</th>\n",
       "    </tr>\n",
       "    <tr>\n",
       "      <th>Request Type</th>\n",
       "      <th></th>\n",
       "      <th></th>\n",
       "      <th></th>\n",
       "      <th></th>\n",
       "      <th></th>\n",
       "      <th></th>\n",
       "    </tr>\n",
       "  </thead>\n",
       "  <tbody>\n",
       "    <tr>\n",
       "      <th>Conservation/Wetlands</th>\n",
       "      <td>8905.75000</td>\n",
       "      <td>-71.061974</td>\n",
       "      <td>42.781838</td>\n",
       "      <td>505.750000</td>\n",
       "      <td>2017.000000</td>\n",
       "      <td>6.000000</td>\n",
       "    </tr>\n",
       "    <tr>\n",
       "      <th>Engineering - Sink Holes</th>\n",
       "      <td>30494.66087</td>\n",
       "      <td>-69.848789</td>\n",
       "      <td>42.031747</td>\n",
       "      <td>293.886957</td>\n",
       "      <td>2017.852174</td>\n",
       "      <td>6.478261</td>\n",
       "    </tr>\n",
       "    <tr>\n",
       "      <th>Highway - Line Painting</th>\n",
       "      <td>35320.55000</td>\n",
       "      <td>-71.099904</td>\n",
       "      <td>42.781526</td>\n",
       "      <td>272.850000</td>\n",
       "      <td>2017.900000</td>\n",
       "      <td>7.850000</td>\n",
       "    </tr>\n",
       "    <tr>\n",
       "      <th>Highway - Sidewalk Request</th>\n",
       "      <td>21890.62766</td>\n",
       "      <td>-68.056322</td>\n",
       "      <td>40.954956</td>\n",
       "      <td>261.308511</td>\n",
       "      <td>2017.457447</td>\n",
       "      <td>6.861702</td>\n",
       "    </tr>\n",
       "    <tr>\n",
       "      <th>Public Works Department</th>\n",
       "      <td>38774.00000</td>\n",
       "      <td>-47.401712</td>\n",
       "      <td>28.514263</td>\n",
       "      <td>249.666667</td>\n",
       "      <td>2018.333333</td>\n",
       "      <td>4.333333</td>\n",
       "    </tr>\n",
       "  </tbody>\n",
       "</table>\n",
       "</div>"
      ],
      "text/plain": [
       "                                  index  Longitude   Latitude  Days_to_close  \\\n",
       "Request Type                                                                   \n",
       "Conservation/Wetlands        8905.75000 -71.061974  42.781838     505.750000   \n",
       "Engineering - Sink Holes    30494.66087 -69.848789  42.031747     293.886957   \n",
       "Highway - Line Painting     35320.55000 -71.099904  42.781526     272.850000   \n",
       "Highway - Sidewalk Request  21890.62766 -68.056322  40.954956     261.308511   \n",
       "Public Works Department     38774.00000 -47.401712  28.514263     249.666667   \n",
       "\n",
       "                                   year     month  \n",
       "Request Type                                       \n",
       "Conservation/Wetlands       2017.000000  6.000000  \n",
       "Engineering - Sink Holes    2017.852174  6.478261  \n",
       "Highway - Line Painting     2017.900000  7.850000  \n",
       "Highway - Sidewalk Request  2017.457447  6.861702  \n",
       "Public Works Department     2018.333333  4.333333  "
      ]
     },
     "execution_count": 1173,
     "metadata": {},
     "output_type": "execute_result"
    }
   ],
   "source": [
    "top_5_2"
   ]
  },
  {
   "cell_type": "code",
   "execution_count": 1174,
   "metadata": {},
   "outputs": [
    {
     "data": {
      "image/png": "[encoded data removed]",
      "text/plain": [
       "<Figure size 1296x720 with 1 Axes>"
      ]
     },
     "metadata": {
      "needs_background": "light"
     },
     "output_type": "display_data"
    }
   ],
   "source": [
    "# Top 5 problems , hue = year\n",
    "\n",
    "figure ,axes = plt.subplots(1,1, figsize=(18, 10))\n",
    "\n",
    "sns_plot = sns.barplot(x = top_5_2.index, y= top_5_2.Days_to_close)\n",
    "plt.ylabel('Average number of days')\n",
    "plt.title('Average time to close case - Top 5')\n",
    "\n",
    "figure = sns_plot.get_figure()\n",
    "\n",
    "figure.savefig(\"Days_to_close.png\")\n"
   ]
  },
  {
   "cell_type": "code",
   "execution_count": 1010,
   "metadata": {},
   "outputs": [
    {
     "data": {
      "text/html": [
       "<div>\n",
       "<style scoped>\n",
       "    .dataframe tbody tr th:only-of-type {\n",
       "        vertical-align: middle;\n",
       "    }\n",
       "\n",
       "    .dataframe tbody tr th {\n",
       "        vertical-align: top;\n",
       "    }\n",
       "\n",
       "    .dataframe thead th {\n",
       "        text-align: right;\n",
       "    }\n",
       "</style>\n",
       "<table border=\"1\" class=\"dataframe\">\n",
       "  <thead>\n",
       "    <tr style=\"text-align: right;\">\n",
       "      <th></th>\n",
       "      <th>Request Type</th>\n",
       "      <th>index</th>\n",
       "      <th>Create Date</th>\n",
       "      <th>Status</th>\n",
       "      <th>Close Date</th>\n",
       "      <th>Complete Address</th>\n",
       "      <th>Longitude</th>\n",
       "      <th>Latitude</th>\n",
       "      <th>Origin</th>\n",
       "      <th>Days_to_close</th>\n",
       "      <th>year</th>\n",
       "      <th>month</th>\n",
       "    </tr>\n",
       "  </thead>\n",
       "  <tbody>\n",
       "    <tr>\n",
       "      <th>2510</th>\n",
       "      <td>Highway - Line Painting</td>\n",
       "      <td>8966</td>\n",
       "      <td>2017-06-09 19:48:00</td>\n",
       "      <td>Closed</td>\n",
       "      <td>2019-09-09 13:52:00</td>\n",
       "      <td>9 VARNUM ST, Haverhill, MA</td>\n",
       "      <td>-71.094332</td>\n",
       "      <td>42.767815</td>\n",
       "      <td>Call Center</td>\n",
       "      <td>821</td>\n",
       "      <td>2017</td>\n",
       "      <td>6</td>\n",
       "    </tr>\n",
       "  </tbody>\n",
       "</table>\n",
       "</div>"
      ],
      "text/plain": [
       "                 Request Type  index         Create Date  Status  \\\n",
       "2510  Highway - Line Painting   8966 2017-06-09 19:48:00  Closed   \n",
       "\n",
       "              Close Date            Complete Address  Longitude   Latitude  \\\n",
       "2510 2019-09-09 13:52:00  9 VARNUM ST, Haverhill, MA -71.094332  42.767815   \n",
       "\n",
       "           Origin  Days_to_close  year  month  \n",
       "2510  Call Center            821  2017      6  "
      ]
     },
     "execution_count": 1010,
     "metadata": {},
     "output_type": "execute_result"
    }
   ],
   "source": [
    "df_by_time.head(1)"
   ]
  },
  {
   "cell_type": "code",
   "execution_count": 1177,
   "metadata": {},
   "outputs": [],
   "source": [
    "#df_col_month"
   ]
  },
  {
   "cell_type": "code",
   "execution_count": 276,
   "metadata": {},
   "outputs": [],
   "source": [
    "df_col_month = df_by_time.groupby('year')['month'].value_counts(sort = False)"
   ]
  },
  {
   "cell_type": "code",
   "execution_count": 277,
   "metadata": {},
   "outputs": [],
   "source": [
    "df_col_month = pd.DataFrame(df_col_month)"
   ]
  },
  {
   "cell_type": "code",
   "execution_count": 1167,
   "metadata": {},
   "outputs": [
    {
     "data": {
      "application/vnd.plotly.v1+json": {
       "config": {
        "plotlyServerURL": "https://plot.ly"
       },
       "data": [
        {
         "name": "2017",
         "type": "scatter",
         "x": [
          "January",
          "February",
          "March",
          "April",
          "May",
          "June",
          "July",
          "August",
          "September",
          "October",
          "November",
          "December"
         ],
         "y": [
          280,
          578,
          554,
          401,
          433,
          374,
          386,
          440,
          371,
          412,
          390,
          475
         ]
        },
        {
         "name": "2018",
         "type": "scatter",
         "x": [
          "January",
          "February",
          "March",
          "April",
          "May",
          "June",
          "July",
          "August",
          "September",
          "October",
          "November",
          "December"
         ],
         "y": [
          815,
          631,
          806,
          671,
          634,
          478,
          461,
          540,
          386,
          464,
          663,
          356
         ]
        },
        {
         "name": "2019",
         "type": "scatter",
         "x": [
          "January",
          "February",
          "March",
          "April",
          "May",
          "June",
          "July",
          "August",
          "September",
          "October",
          "November",
          "December"
         ],
         "y": [
          921,
          778,
          788,
          713,
          481,
          433,
          396,
          379,
          403,
          100
         ]
        }
       ],
       "layout": {
        "barmode": "stack",
        "template": {
         "data": {
          "bar": [
           {
            "error_x": {
             "color": "#2a3f5f"
            },
            "error_y": {
             "color": "#2a3f5f"
            },
            "marker": {
             "line": {
              "color": "#E5ECF6",
              "width": 0.5
             }
            },
            "type": "bar"
           }
          ],
          "barpolar": [
           {
            "marker": {
             "line": {
              "color": "#E5ECF6",
              "width": 0.5
             }
            },
            "type": "barpolar"
           }
          ],
          "carpet": [
           {
            "aaxis": {
             "endlinecolor": "#2a3f5f",
             "gridcolor": "white",
             "linecolor": "white",
             "minorgridcolor": "white",
             "startlinecolor": "#2a3f5f"
            },
            "baxis": {
             "endlinecolor": "#2a3f5f",
             "gridcolor": "white",
             "linecolor": "white",
             "minorgridcolor": "white",
             "startlinecolor": "#2a3f5f"
            },
            "type": "carpet"
           }
          ],
          "choropleth": [
           {
            "colorbar": {
             "outlinewidth": 0,
             "ticks": ""
            },
            "type": "choropleth"
           }
          ],
          "contour": [
           {
            "colorbar": {
             "outlinewidth": 0,
             "ticks": ""
            },
            "colorscale": [
             [
              0,
              "#0d0887"
             ],
             [
              0.1111111111111111,
              "#46039f"
             ],
             [
              0.2222222222222222,
              "#7201a8"
             ],
             [
              0.3333333333333333,
              "#9c179e"
             ],
             [
              0.4444444444444444,
              "#bd3786"
             ],
             [
              0.5555555555555556,
              "#d8576b"
             ],
             [
              0.6666666666666666,
              "#ed7953"
             ],
             [
              0.7777777777777778,
              "#fb9f3a"
             ],
             [
              0.8888888888888888,
              "#fdca26"
             ],
             [
              1,
              "#f0f921"
             ]
            ],
            "type": "contour"
           }
          ],
          "contourcarpet": [
           {
            "colorbar": {
             "outlinewidth": 0,
             "ticks": ""
            },
            "type": "contourcarpet"
           }
          ],
          "heatmap": [
           {
            "colorbar": {
             "outlinewidth": 0,
             "ticks": ""
            },
            "colorscale": [
             [
              0,
              "#0d0887"
             ],
             [
              0.1111111111111111,
              "#46039f"
             ],
             [
              0.2222222222222222,
              "#7201a8"
             ],
             [
              0.3333333333333333,
              "#9c179e"
             ],
             [
              0.4444444444444444,
              "#bd3786"
             ],
             [
              0.5555555555555556,
              "#d8576b"
             ],
             [
              0.6666666666666666,
              "#ed7953"
             ],
             [
              0.7777777777777778,
              "#fb9f3a"
             ],
             [
              0.8888888888888888,
              "#fdca26"
             ],
             [
              1,
              "#f0f921"
             ]
            ],
            "type": "heatmap"
           }
          ],
          "heatmapgl": [
           {
            "colorbar": {
             "outlinewidth": 0,
             "ticks": ""
            },
            "colorscale": [
             [
              0,
              "#0d0887"
             ],
             [
              0.1111111111111111,
              "#46039f"
             ],
             [
              0.2222222222222222,
              "#7201a8"
             ],
             [
              0.3333333333333333,
              "#9c179e"
             ],
             [
              0.4444444444444444,
              "#bd3786"
             ],
             [
              0.5555555555555556,
              "#d8576b"
             ],
             [
              0.6666666666666666,
              "#ed7953"
             ],
             [
              0.7777777777777778,
              "#fb9f3a"
             ],
             [
              0.8888888888888888,
              "#fdca26"
             ],
             [
              1,
              "#f0f921"
             ]
            ],
            "type": "heatmapgl"
           }
          ],
          "histogram": [
           {
            "marker": {
             "colorbar": {
              "outlinewidth": 0,
              "ticks": ""
             }
            },
            "type": "histogram"
           }
          ],
          "histogram2d": [
           {
            "colorbar": {
             "outlinewidth": 0,
             "ticks": ""
            },
            "colorscale": [
             [
              0,
              "#0d0887"
             ],
             [
              0.1111111111111111,
              "#46039f"
             ],
             [
              0.2222222222222222,
              "#7201a8"
             ],
             [
              0.3333333333333333,
              "#9c179e"
             ],
             [
              0.4444444444444444,
              "#bd3786"
             ],
             [
              0.5555555555555556,
              "#d8576b"
             ],
             [
              0.6666666666666666,
              "#ed7953"
             ],
             [
              0.7777777777777778,
              "#fb9f3a"
             ],
             [
              0.8888888888888888,
              "#fdca26"
             ],
             [
              1,
              "#f0f921"
             ]
            ],
            "type": "histogram2d"
           }
          ],
          "histogram2dcontour": [
           {
            "colorbar": {
             "outlinewidth": 0,
             "ticks": ""
            },
            "colorscale": [
             [
              0,
              "#0d0887"
             ],
             [
              0.1111111111111111,
              "#46039f"
             ],
             [
              0.2222222222222222,
              "#7201a8"
             ],
             [
              0.3333333333333333,
              "#9c179e"
             ],
             [
              0.4444444444444444,
              "#bd3786"
             ],
             [
              0.5555555555555556,
              "#d8576b"
             ],
             [
              0.6666666666666666,
              "#ed7953"
             ],
             [
              0.7777777777777778,
              "#fb9f3a"
             ],
             [
              0.8888888888888888,
              "#fdca26"
             ],
             [
              1,
              "#f0f921"
             ]
            ],
            "type": "histogram2dcontour"
           }
          ],
          "mesh3d": [
           {
            "colorbar": {
             "outlinewidth": 0,
             "ticks": ""
            },
            "type": "mesh3d"
           }
          ],
          "parcoords": [
           {
            "line": {
             "colorbar": {
              "outlinewidth": 0,
              "ticks": ""
             }
            },
            "type": "parcoords"
           }
          ],
          "scatter": [
           {
            "marker": {
             "colorbar": {
              "outlinewidth": 0,
              "ticks": ""
             }
            },
            "type": "scatter"
           }
          ],
          "scatter3d": [
           {
            "line": {
             "colorbar": {
              "outlinewidth": 0,
              "ticks": ""
             }
            },
            "marker": {
             "colorbar": {
              "outlinewidth": 0,
              "ticks": ""
             }
            },
            "type": "scatter3d"
           }
          ],
          "scattercarpet": [
           {
            "marker": {
             "colorbar": {
              "outlinewidth": 0,
              "ticks": ""
             }
            },
            "type": "scattercarpet"
           }
          ],
          "scattergeo": [
           {
            "marker": {
             "colorbar": {
              "outlinewidth": 0,
              "ticks": ""
             }
            },
            "type": "scattergeo"
           }
          ],
          "scattergl": [
           {
            "marker": {
             "colorbar": {
              "outlinewidth": 0,
              "ticks": ""
             }
            },
            "type": "scattergl"
           }
          ],
          "scattermapbox": [
           {
            "marker": {
             "colorbar": {
              "outlinewidth": 0,
              "ticks": ""
             }
            },
            "type": "scattermapbox"
           }
          ],
          "scatterpolar": [
           {
            "marker": {
             "colorbar": {
              "outlinewidth": 0,
              "ticks": ""
             }
            },
            "type": "scatterpolar"
           }
          ],
          "scatterpolargl": [
           {
            "marker": {
             "colorbar": {
              "outlinewidth": 0,
              "ticks": ""
             }
            },
            "type": "scatterpolargl"
           }
          ],
          "scatterternary": [
           {
            "marker": {
             "colorbar": {
              "outlinewidth": 0,
              "ticks": ""
             }
            },
            "type": "scatterternary"
           }
          ],
          "surface": [
           {
            "colorbar": {
             "outlinewidth": 0,
             "ticks": ""
            },
            "colorscale": [
             [
              0,
              "#0d0887"
             ],
             [
              0.1111111111111111,
              "#46039f"
             ],
             [
              0.2222222222222222,
              "#7201a8"
             ],
             [
              0.3333333333333333,
              "#9c179e"
             ],
             [
              0.4444444444444444,
              "#bd3786"
             ],
             [
              0.5555555555555556,
              "#d8576b"
             ],
             [
              0.6666666666666666,
              "#ed7953"
             ],
             [
              0.7777777777777778,
              "#fb9f3a"
             ],
             [
              0.8888888888888888,
              "#fdca26"
             ],
             [
              1,
              "#f0f921"
             ]
            ],
            "type": "surface"
           }
          ],
          "table": [
           {
            "cells": {
             "fill": {
              "color": "#EBF0F8"
             },
             "line": {
              "color": "white"
             }
            },
            "header": {
             "fill": {
              "color": "#C8D4E3"
             },
             "line": {
              "color": "white"
             }
            },
            "type": "table"
           }
          ]
         },
         "layout": {
          "annotationdefaults": {
           "arrowcolor": "#2a3f5f",
           "arrowhead": 0,
           "arrowwidth": 1
          },
          "colorscale": {
           "diverging": [
            [
             0,
             "#8e0152"
            ],
            [
             0.1,
             "#c51b7d"
            ],
            [
             0.2,
             "#de77ae"
            ],
            [
             0.3,
             "#f1b6da"
            ],
            [
             0.4,
             "#fde0ef"
            ],
            [
             0.5,
             "#f7f7f7"
            ],
            [
             0.6,
             "#e6f5d0"
            ],
            [
             0.7,
             "#b8e186"
            ],
            [
             0.8,
             "#7fbc41"
            ],
            [
             0.9,
             "#4d9221"
            ],
            [
             1,
             "#276419"
            ]
           ],
           "sequential": [
            [
             0,
             "#0d0887"
            ],
            [
             0.1111111111111111,
             "#46039f"
            ],
            [
             0.2222222222222222,
             "#7201a8"
            ],
            [
             0.3333333333333333,
             "#9c179e"
            ],
            [
             0.4444444444444444,
             "#bd3786"
            ],
            [
             0.5555555555555556,
             "#d8576b"
            ],
            [
             0.6666666666666666,
             "#ed7953"
            ],
            [
             0.7777777777777778,
             "#fb9f3a"
            ],
            [
             0.8888888888888888,
             "#fdca26"
            ],
            [
             1,
             "#f0f921"
            ]
           ],
           "sequentialminus": [
            [
             0,
             "#0d0887"
            ],
            [
             0.1111111111111111,
             "#46039f"
            ],
            [
             0.2222222222222222,
             "#7201a8"
            ],
            [
             0.3333333333333333,
             "#9c179e"
            ],
            [
             0.4444444444444444,
             "#bd3786"
            ],
            [
             0.5555555555555556,
             "#d8576b"
            ],
            [
             0.6666666666666666,
             "#ed7953"
            ],
            [
             0.7777777777777778,
             "#fb9f3a"
            ],
            [
             0.8888888888888888,
             "#fdca26"
            ],
            [
             1,
             "#f0f921"
            ]
           ]
          },
          "colorway": [
           "#636efa",
           "#EF553B",
           "#00cc96",
           "#ab63fa",
           "#FFA15A",
           "#19d3f3",
           "#FF6692",
           "#B6E880",
           "#FF97FF",
           "#FECB52"
          ],
          "font": {
           "color": "#2a3f5f"
          },
          "geo": {
           "bgcolor": "white",
           "lakecolor": "white",
           "landcolor": "#E5ECF6",
           "showlakes": true,
           "showland": true,
           "subunitcolor": "white"
          },
          "hoverlabel": {
           "align": "left"
          },
          "hovermode": "closest",
          "mapbox": {
           "style": "light"
          },
          "paper_bgcolor": "white",
          "plot_bgcolor": "#E5ECF6",
          "polar": {
           "angularaxis": {
            "gridcolor": "white",
            "linecolor": "white",
            "ticks": ""
           },
           "bgcolor": "#E5ECF6",
           "radialaxis": {
            "gridcolor": "white",
            "linecolor": "white",
            "ticks": ""
           }
          },
          "scene": {
           "xaxis": {
            "backgroundcolor": "#E5ECF6",
            "gridcolor": "white",
            "gridwidth": 2,
            "linecolor": "white",
            "showbackground": true,
            "ticks": "",
            "zerolinecolor": "white"
           },
           "yaxis": {
            "backgroundcolor": "#E5ECF6",
            "gridcolor": "white",
            "gridwidth": 2,
            "linecolor": "white",
            "showbackground": true,
            "ticks": "",
            "zerolinecolor": "white"
           },
           "zaxis": {
            "backgroundcolor": "#E5ECF6",
            "gridcolor": "white",
            "gridwidth": 2,
            "linecolor": "white",
            "showbackground": true,
            "ticks": "",
            "zerolinecolor": "white"
           }
          },
          "shapedefaults": {
           "line": {
            "color": "#2a3f5f"
           }
          },
          "ternary": {
           "aaxis": {
            "gridcolor": "white",
            "linecolor": "white",
            "ticks": ""
           },
           "baxis": {
            "gridcolor": "white",
            "linecolor": "white",
            "ticks": ""
           },
           "bgcolor": "#E5ECF6",
           "caxis": {
            "gridcolor": "white",
            "linecolor": "white",
            "ticks": ""
           }
          },
          "title": {
           "x": 0.05
          },
          "xaxis": {
           "automargin": true,
           "gridcolor": "white",
           "linecolor": "white",
           "ticks": "",
           "zerolinecolor": "white",
           "zerolinewidth": 2
          },
          "yaxis": {
           "automargin": true,
           "gridcolor": "white",
           "linecolor": "white",
           "ticks": "",
           "zerolinecolor": "white",
           "zerolinewidth": 2
          }
         }
        },
        "title": {
         "text": "Trend in number of service requests - by year"
        },
        "xaxis": {
         "title": {
          "text": "Month"
         }
        },
        "yaxis": {
         "title": {
          "text": "Cases Created "
         }
        }
       }
      },
      "text/html": [
       "<div>\n",
       "        \n",
       "        \n",
       "            <div id=\"e264c00c-9fba-401c-bc82-cbc4e8ce5bac\" class=\"plotly-graph-div\" style=\"height:525px; width:100%;\"></div>\n",
       "            <script type=\"text/javascript\">\n",
       "                require([\"plotly\"], function(Plotly) {\n",
       "                    window.PLOTLYENV=window.PLOTLYENV || {};\n",
       "                    \n",
       "                if (document.getElementById(\"e264c00c-9fba-401c-bc82-cbc4e8ce5bac\")) {\n",
       "                    Plotly.newPlot(\n",
       "                        'e264c00c-9fba-401c-bc82-cbc4e8ce5bac',\n",
       "                        [{\"name\": \"2017\", \"type\": \"scatter\", \"x\": [\"January\", \"February\", \"March\", \"April\", \"May\", \"June\", \"July\", \"August\", \"September\", \"October\", \"November\", \"December\"], \"y\": [280, 578, 554, 401, 433, 374, 386, 440, 371, 412, 390, 475]}, {\"name\": \"2018\", \"type\": \"scatter\", \"x\": [\"January\", \"February\", \"March\", \"April\", \"May\", \"June\", \"July\", \"August\", \"September\", \"October\", \"November\", \"December\"], \"y\": [815, 631, 806, 671, 634, 478, 461, 540, 386, 464, 663, 356]}, {\"name\": \"2019\", \"type\": \"scatter\", \"x\": [\"January\", \"February\", \"March\", \"April\", \"May\", \"June\", \"July\", \"August\", \"September\", \"October\", \"November\", \"December\"], \"y\": [921, 778, 788, 713, 481, 433, 396, 379, 403, 100]}],\n",
       "                        {\"barmode\": \"stack\", \"template\": {\"data\": {\"bar\": [{\"error_x\": {\"color\": \"#2a3f5f\"}, \"error_y\": {\"color\": \"#2a3f5f\"}, \"marker\": {\"line\": {\"color\": \"#E5ECF6\", \"width\": 0.5}}, \"type\": \"bar\"}], \"barpolar\": [{\"marker\": {\"line\": {\"color\": \"#E5ECF6\", \"width\": 0.5}}, \"type\": \"barpolar\"}], \"carpet\": [{\"aaxis\": {\"endlinecolor\": \"#2a3f5f\", \"gridcolor\": \"white\", \"linecolor\": \"white\", \"minorgridcolor\": \"white\", \"startlinecolor\": \"#2a3f5f\"}, \"baxis\": {\"endlinecolor\": \"#2a3f5f\", \"gridcolor\": \"white\", \"linecolor\": \"white\", \"minorgridcolor\": \"white\", \"startlinecolor\": \"#2a3f5f\"}, \"type\": \"carpet\"}], \"choropleth\": [{\"colorbar\": {\"outlinewidth\": 0, \"ticks\": \"\"}, \"type\": \"choropleth\"}], \"contour\": [{\"colorbar\": {\"outlinewidth\": 0, \"ticks\": \"\"}, \"colorscale\": [[0.0, \"#0d0887\"], [0.1111111111111111, \"#46039f\"], [0.2222222222222222, \"#7201a8\"], [0.3333333333333333, \"#9c179e\"], [0.4444444444444444, \"#bd3786\"], [0.5555555555555556, \"#d8576b\"], [0.6666666666666666, \"#ed7953\"], [0.7777777777777778, \"#fb9f3a\"], [0.8888888888888888, \"#fdca26\"], [1.0, \"#f0f921\"]], \"type\": \"contour\"}], \"contourcarpet\": [{\"colorbar\": {\"outlinewidth\": 0, \"ticks\": \"\"}, \"type\": \"contourcarpet\"}], \"heatmap\": [{\"colorbar\": {\"outlinewidth\": 0, \"ticks\": \"\"}, \"colorscale\": [[0.0, \"#0d0887\"], [0.1111111111111111, \"#46039f\"], [0.2222222222222222, \"#7201a8\"], [0.3333333333333333, \"#9c179e\"], [0.4444444444444444, \"#bd3786\"], [0.5555555555555556, \"#d8576b\"], [0.6666666666666666, \"#ed7953\"], [0.7777777777777778, \"#fb9f3a\"], [0.8888888888888888, \"#fdca26\"], [1.0, \"#f0f921\"]], \"type\": \"heatmap\"}], \"heatmapgl\": [{\"colorbar\": {\"outlinewidth\": 0, \"ticks\": \"\"}, \"colorscale\": [[0.0, \"#0d0887\"], [0.1111111111111111, \"#46039f\"], [0.2222222222222222, \"#7201a8\"], [0.3333333333333333, \"#9c179e\"], [0.4444444444444444, \"#bd3786\"], [0.5555555555555556, \"#d8576b\"], [0.6666666666666666, \"#ed7953\"], [0.7777777777777778, \"#fb9f3a\"], [0.8888888888888888, \"#fdca26\"], [1.0, \"#f0f921\"]], \"type\": \"heatmapgl\"}], \"histogram\": [{\"marker\": {\"colorbar\": {\"outlinewidth\": 0, \"ticks\": \"\"}}, \"type\": \"histogram\"}], \"histogram2d\": [{\"colorbar\": {\"outlinewidth\": 0, \"ticks\": \"\"}, \"colorscale\": [[0.0, \"#0d0887\"], [0.1111111111111111, \"#46039f\"], [0.2222222222222222, \"#7201a8\"], [0.3333333333333333, \"#9c179e\"], [0.4444444444444444, \"#bd3786\"], [0.5555555555555556, \"#d8576b\"], [0.6666666666666666, \"#ed7953\"], [0.7777777777777778, \"#fb9f3a\"], [0.8888888888888888, \"#fdca26\"], [1.0, \"#f0f921\"]], \"type\": \"histogram2d\"}], \"histogram2dcontour\": [{\"colorbar\": {\"outlinewidth\": 0, \"ticks\": \"\"}, \"colorscale\": [[0.0, \"#0d0887\"], [0.1111111111111111, \"#46039f\"], [0.2222222222222222, \"#7201a8\"], [0.3333333333333333, \"#9c179e\"], [0.4444444444444444, \"#bd3786\"], [0.5555555555555556, \"#d8576b\"], [0.6666666666666666, \"#ed7953\"], [0.7777777777777778, \"#fb9f3a\"], [0.8888888888888888, \"#fdca26\"], [1.0, \"#f0f921\"]], \"type\": \"histogram2dcontour\"}], \"mesh3d\": [{\"colorbar\": {\"outlinewidth\": 0, \"ticks\": \"\"}, \"type\": \"mesh3d\"}], \"parcoords\": [{\"line\": {\"colorbar\": {\"outlinewidth\": 0, \"ticks\": \"\"}}, \"type\": \"parcoords\"}], \"scatter\": [{\"marker\": {\"colorbar\": {\"outlinewidth\": 0, \"ticks\": \"\"}}, \"type\": \"scatter\"}], \"scatter3d\": [{\"line\": {\"colorbar\": {\"outlinewidth\": 0, \"ticks\": \"\"}}, \"marker\": {\"colorbar\": {\"outlinewidth\": 0, \"ticks\": \"\"}}, \"type\": \"scatter3d\"}], \"scattercarpet\": [{\"marker\": {\"colorbar\": {\"outlinewidth\": 0, \"ticks\": \"\"}}, \"type\": \"scattercarpet\"}], \"scattergeo\": [{\"marker\": {\"colorbar\": {\"outlinewidth\": 0, \"ticks\": \"\"}}, \"type\": \"scattergeo\"}], \"scattergl\": [{\"marker\": {\"colorbar\": {\"outlinewidth\": 0, \"ticks\": \"\"}}, \"type\": \"scattergl\"}], \"scattermapbox\": [{\"marker\": {\"colorbar\": {\"outlinewidth\": 0, \"ticks\": \"\"}}, \"type\": \"scattermapbox\"}], \"scatterpolar\": [{\"marker\": {\"colorbar\": {\"outlinewidth\": 0, \"ticks\": \"\"}}, \"type\": \"scatterpolar\"}], \"scatterpolargl\": [{\"marker\": {\"colorbar\": {\"outlinewidth\": 0, \"ticks\": \"\"}}, \"type\": \"scatterpolargl\"}], \"scatterternary\": [{\"marker\": {\"colorbar\": {\"outlinewidth\": 0, \"ticks\": \"\"}}, \"type\": \"scatterternary\"}], \"surface\": [{\"colorbar\": {\"outlinewidth\": 0, \"ticks\": \"\"}, \"colorscale\": [[0.0, \"#0d0887\"], [0.1111111111111111, \"#46039f\"], [0.2222222222222222, \"#7201a8\"], [0.3333333333333333, \"#9c179e\"], [0.4444444444444444, \"#bd3786\"], [0.5555555555555556, \"#d8576b\"], [0.6666666666666666, \"#ed7953\"], [0.7777777777777778, \"#fb9f3a\"], [0.8888888888888888, \"#fdca26\"], [1.0, \"#f0f921\"]], \"type\": \"surface\"}], \"table\": [{\"cells\": {\"fill\": {\"color\": \"#EBF0F8\"}, \"line\": {\"color\": \"white\"}}, \"header\": {\"fill\": {\"color\": \"#C8D4E3\"}, \"line\": {\"color\": \"white\"}}, \"type\": \"table\"}]}, \"layout\": {\"annotationdefaults\": {\"arrowcolor\": \"#2a3f5f\", \"arrowhead\": 0, \"arrowwidth\": 1}, \"colorscale\": {\"diverging\": [[0, \"#8e0152\"], [0.1, \"#c51b7d\"], [0.2, \"#de77ae\"], [0.3, \"#f1b6da\"], [0.4, \"#fde0ef\"], [0.5, \"#f7f7f7\"], [0.6, \"#e6f5d0\"], [0.7, \"#b8e186\"], [0.8, \"#7fbc41\"], [0.9, \"#4d9221\"], [1, \"#276419\"]], \"sequential\": [[0.0, \"#0d0887\"], [0.1111111111111111, \"#46039f\"], [0.2222222222222222, \"#7201a8\"], [0.3333333333333333, \"#9c179e\"], [0.4444444444444444, \"#bd3786\"], [0.5555555555555556, \"#d8576b\"], [0.6666666666666666, \"#ed7953\"], [0.7777777777777778, \"#fb9f3a\"], [0.8888888888888888, \"#fdca26\"], [1.0, \"#f0f921\"]], \"sequentialminus\": [[0.0, \"#0d0887\"], [0.1111111111111111, \"#46039f\"], [0.2222222222222222, \"#7201a8\"], [0.3333333333333333, \"#9c179e\"], [0.4444444444444444, \"#bd3786\"], [0.5555555555555556, \"#d8576b\"], [0.6666666666666666, \"#ed7953\"], [0.7777777777777778, \"#fb9f3a\"], [0.8888888888888888, \"#fdca26\"], [1.0, \"#f0f921\"]]}, \"colorway\": [\"#636efa\", \"#EF553B\", \"#00cc96\", \"#ab63fa\", \"#FFA15A\", \"#19d3f3\", \"#FF6692\", \"#B6E880\", \"#FF97FF\", \"#FECB52\"], \"font\": {\"color\": \"#2a3f5f\"}, \"geo\": {\"bgcolor\": \"white\", \"lakecolor\": \"white\", \"landcolor\": \"#E5ECF6\", \"showlakes\": true, \"showland\": true, \"subunitcolor\": \"white\"}, \"hoverlabel\": {\"align\": \"left\"}, \"hovermode\": \"closest\", \"mapbox\": {\"style\": \"light\"}, \"paper_bgcolor\": \"white\", \"plot_bgcolor\": \"#E5ECF6\", \"polar\": {\"angularaxis\": {\"gridcolor\": \"white\", \"linecolor\": \"white\", \"ticks\": \"\"}, \"bgcolor\": \"#E5ECF6\", \"radialaxis\": {\"gridcolor\": \"white\", \"linecolor\": \"white\", \"ticks\": \"\"}}, \"scene\": {\"xaxis\": {\"backgroundcolor\": \"#E5ECF6\", \"gridcolor\": \"white\", \"gridwidth\": 2, \"linecolor\": \"white\", \"showbackground\": true, \"ticks\": \"\", \"zerolinecolor\": \"white\"}, \"yaxis\": {\"backgroundcolor\": \"#E5ECF6\", \"gridcolor\": \"white\", \"gridwidth\": 2, \"linecolor\": \"white\", \"showbackground\": true, \"ticks\": \"\", \"zerolinecolor\": \"white\"}, \"zaxis\": {\"backgroundcolor\": \"#E5ECF6\", \"gridcolor\": \"white\", \"gridwidth\": 2, \"linecolor\": \"white\", \"showbackground\": true, \"ticks\": \"\", \"zerolinecolor\": \"white\"}}, \"shapedefaults\": {\"line\": {\"color\": \"#2a3f5f\"}}, \"ternary\": {\"aaxis\": {\"gridcolor\": \"white\", \"linecolor\": \"white\", \"ticks\": \"\"}, \"baxis\": {\"gridcolor\": \"white\", \"linecolor\": \"white\", \"ticks\": \"\"}, \"bgcolor\": \"#E5ECF6\", \"caxis\": {\"gridcolor\": \"white\", \"linecolor\": \"white\", \"ticks\": \"\"}}, \"title\": {\"x\": 0.05}, \"xaxis\": {\"automargin\": true, \"gridcolor\": \"white\", \"linecolor\": \"white\", \"ticks\": \"\", \"zerolinecolor\": \"white\", \"zerolinewidth\": 2}, \"yaxis\": {\"automargin\": true, \"gridcolor\": \"white\", \"linecolor\": \"white\", \"ticks\": \"\", \"zerolinecolor\": \"white\", \"zerolinewidth\": 2}}}, \"title\": {\"text\": \"Trend in number of service requests - by year\"}, \"xaxis\": {\"title\": {\"text\": \"Month\"}}, \"yaxis\": {\"title\": {\"text\": \"Cases Created \"}}},\n",
       "                        {\"responsive\": true}\n",
       "                    ).then(function(){\n",
       "                            \n",
       "var gd = document.getElementById('e264c00c-9fba-401c-bc82-cbc4e8ce5bac');\n",
       "var x = new MutationObserver(function (mutations, observer) {{\n",
       "        var display = window.getComputedStyle(gd).display;\n",
       "        if (!display || display === 'none') {{\n",
       "            console.log([gd, 'removed!']);\n",
       "            Plotly.purge(gd);\n",
       "            observer.disconnect();\n",
       "        }}\n",
       "}});\n",
       "\n",
       "// Listen for the removal of the full notebook cells\n",
       "var notebookContainer = gd.closest('#notebook-container');\n",
       "if (notebookContainer) {{\n",
       "    x.observe(notebookContainer, {childList: true});\n",
       "}}\n",
       "\n",
       "// Listen for the clearing of the current output cell\n",
       "var outputEl = gd.closest('.output');\n",
       "if (outputEl) {{\n",
       "    x.observe(outputEl, {childList: true});\n",
       "}}\n",
       "\n",
       "                        })\n",
       "                };\n",
       "                });\n",
       "            </script>\n",
       "        </div>"
      ]
     },
     "metadata": {},
     "output_type": "display_data"
    }
   ],
   "source": [
    "# Add data\n",
    "month = ['January', 'February', 'March', 'April', 'May', 'June', 'July',\n",
    "         'August', 'September', 'October', 'November', 'December']\n",
    "\n",
    "#x=df_col_month['month'][2017].index, df_col_month['month'][2018].index\n",
    "\n",
    "\n",
    "fig = go.Figure()\n",
    "# Create and style traces\n",
    "fig.add_trace(go.Scatter(x = month, y=df_col_month['month'][2017].values, name='2017'\n",
    "                         ))\n",
    "fig.add_trace(go.Scatter(x=month, y=df_col_month['month'][2018].values, name = '2018'\n",
    "                         ))\n",
    "fig.add_trace(go.Scatter(x=month, y=df_col_month['month'][2019].values, name='2019'))\n",
    "       \n",
    "\n",
    "\n",
    "# Edit the layout\n",
    "fig.update_layout(title='Trend in number of service requests - by year',\n",
    "                   xaxis_title='Month',\n",
    "                   yaxis_title='Cases Created ')\n",
    "\n",
    "# Change the bar mode\n",
    "fig.update_layout(barmode='stack')\n",
    "#fig.update_xaxes(categoryorder='total descending')\n",
    "fig.write_html('TypeOfRequest_Yearly.html', auto_open=True)\n",
    "fig.show()\n",
    "\n"
   ]
  },
  {
   "cell_type": "code",
   "execution_count": 1152,
   "metadata": {},
   "outputs": [
    {
     "data": {
      "text/html": [
       "<div>\n",
       "<style scoped>\n",
       "    .dataframe tbody tr th:only-of-type {\n",
       "        vertical-align: middle;\n",
       "    }\n",
       "\n",
       "    .dataframe tbody tr th {\n",
       "        vertical-align: top;\n",
       "    }\n",
       "\n",
       "    .dataframe thead th {\n",
       "        text-align: right;\n",
       "    }\n",
       "</style>\n",
       "<table border=\"1\" class=\"dataframe\">\n",
       "  <thead>\n",
       "    <tr style=\"text-align: right;\">\n",
       "      <th></th>\n",
       "      <th>Request Type</th>\n",
       "      <th>Longitude</th>\n",
       "      <th>Latitude</th>\n",
       "      <th>year</th>\n",
       "      <th>month</th>\n",
       "    </tr>\n",
       "  </thead>\n",
       "  <tbody>\n",
       "    <tr>\n",
       "      <th>0</th>\n",
       "      <td>Traffic/Street Lights - Street Light Repair - ...</td>\n",
       "      <td>-71.105902</td>\n",
       "      <td>42.767552</td>\n",
       "      <td>2017</td>\n",
       "      <td>1</td>\n",
       "    </tr>\n",
       "    <tr>\n",
       "      <th>1</th>\n",
       "      <td>Snow Removal Issues - Sanding Request</td>\n",
       "      <td>-71.073723</td>\n",
       "      <td>42.804261</td>\n",
       "      <td>2017</td>\n",
       "      <td>1</td>\n",
       "    </tr>\n",
       "    <tr>\n",
       "      <th>2</th>\n",
       "      <td>Traffic/Street Lights - Street Light Repair - ...</td>\n",
       "      <td>-71.083366</td>\n",
       "      <td>42.795998</td>\n",
       "      <td>2017</td>\n",
       "      <td>1</td>\n",
       "    </tr>\n",
       "    <tr>\n",
       "      <th>3</th>\n",
       "      <td>Poor Property Maintenance</td>\n",
       "      <td>-71.091456</td>\n",
       "      <td>42.773071</td>\n",
       "      <td>2017</td>\n",
       "      <td>1</td>\n",
       "    </tr>\n",
       "    <tr>\n",
       "      <th>4</th>\n",
       "      <td>Highway - Pothole</td>\n",
       "      <td>-71.061722</td>\n",
       "      <td>42.774201</td>\n",
       "      <td>2017</td>\n",
       "      <td>1</td>\n",
       "    </tr>\n",
       "  </tbody>\n",
       "</table>\n",
       "</div>"
      ],
      "text/plain": [
       "                                        Request Type  Longitude   Latitude  \\\n",
       "0  Traffic/Street Lights - Street Light Repair - ... -71.105902  42.767552   \n",
       "1              Snow Removal Issues - Sanding Request -71.073723  42.804261   \n",
       "2  Traffic/Street Lights - Street Light Repair - ... -71.083366  42.795998   \n",
       "3                          Poor Property Maintenance -71.091456  42.773071   \n",
       "4                                  Highway - Pothole -71.061722  42.774201   \n",
       "\n",
       "   year  month  \n",
       "0  2017      1  \n",
       "1  2017      1  \n",
       "2  2017      1  \n",
       "3  2017      1  \n",
       "4  2017      1  "
      ]
     },
     "execution_count": 1152,
     "metadata": {},
     "output_type": "execute_result"
    }
   ],
   "source": [
    "featuresMap = ['Request Type', 'Longitude','Latitude','year','month']\n",
    "df_map = df_filtered[featuresMap]\n",
    "df_map.head()"
   ]
  },
  {
   "cell_type": "markdown",
   "metadata": {},
   "source": [
    "# Coreelation between weather, location and request type"
   ]
  },
  {
   "cell_type": "code",
   "execution_count": 1163,
   "metadata": {},
   "outputs": [],
   "source": [
    "SF_COORDINATES = (42.7762, -71.0773)\n",
    "\n",
    "# for speed purposes\n",
    "MAX_RECORDS = 1000\n",
    "  \n",
    "# create empty map zoomed in on San Francisco\n",
    "map_haverhill = folium.Map(location=SF_COORDINATES, zoom_start=12)\n",
    " \n",
    "# add a marker for every record in the filtered data, use a clustered view\n",
    "for row in map_group17[0:100].itertuples():\n",
    "    folium.Marker(location=[float(row.Latitude), float(row.Longitude)], \n",
    "                  popup=df_map['Request Type']).add_to(map_haverhill)"
   ]
  },
  {
   "cell_type": "markdown",
   "metadata": {},
   "source": []
  },
  {
   "cell_type": "code",
   "execution_count": 1164,
   "metadata": {
    "scrolled": true
   },
   "outputs": [
    {
     "data": {
      "text/html": [
       "<div style=\"width:100%;\"><div style=\"position:relative;width:100%;height:0;padding-bottom:60%;\"><iframe src=\"data:text/html;charset=utf-8;base64,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\" style=\"position:absolute;width:100%;height:100%;left:0;top:0;border:none !important;\" allowfullscreen webkitallowfullscreen mozallowfullscreen></iframe></div></div>"
      ],
      "text/plain": [
       "<folium.folium.Map at 0x1a6a75b470>"
      ]
     },
     "execution_count": 1164,
     "metadata": {},
     "output_type": "execute_result"
    }
   ],
   "source": [
    "map_haverhill"
   ]
  },
  {
   "cell_type": "code",
   "execution_count": 1160,
   "metadata": {},
   "outputs": [],
   "source": [
    "map_group = df_map[df_map['Request Type'] == 'Highway - Pothole'][['Latitude', 'Longitude', 'year','month']]\n",
    "map_group17 = map_group[map_group.year == 2017].head(300)"
   ]
  },
  {
   "cell_type": "code",
   "execution_count": 338,
   "metadata": {},
   "outputs": [
    {
     "data": {
      "text/plain": [
       "<matplotlib.axes._subplots.AxesSubplot at 0x1a4b0f0550>"
      ]
     },
     "execution_count": 338,
     "metadata": {},
     "output_type": "execute_result"
    },
    {
     "data": {
      "image/png": "[encoded data removed]",
      "text/plain": [
       "<Figure size 792x648 with 2 Axes>"
      ]
     },
     "metadata": {},
     "output_type": "display_data"
    }
   ],
   "source": [
    "from string import ascii_letters\n",
    "import numpy as np\n",
    "import pandas as pd\n",
    "import seaborn as sns\n",
    "import matplotlib.pyplot as plt\n",
    "\n",
    "sns.set(style=\"white\")\n",
    "\n",
    "# Generate a large random dataset\n",
    "rs = np.random.RandomState(33)\n",
    "d = pd.DataFrame(data=rs.normal(size=(100, 26)),\n",
    "                 columns=list(ascii_letters[26:]))\n",
    "\n",
    "# Compute the correlation matrix\n",
    "corr = d.corr()\n",
    "\n",
    "# Generate a mask for the upper triangle\n",
    "mask = np.zeros_like(corr, dtype=np.bool)\n",
    "mask[np.triu_indices_from(mask)] = True\n",
    "\n",
    "# Set up the matplotlib figure\n",
    "f, ax = plt.subplots(figsize=(11, 9))\n",
    "\n",
    "# Generate a custom diverging colormap\n",
    "cmap = sns.diverging_palette(220, 10, as_cmap=True)\n",
    "\n",
    "# Draw the heatmap with the mask and correct aspect ratio\n",
    "sns.heatmap(corr, mask=mask, cmap=cmap, vmax=.3, center=0,\n",
    "            square=True, linewidths=.5, cbar_kws={\"shrink\": .5})"
   ]
  },
  {
   "cell_type": "code",
   "execution_count": 488,
   "metadata": {},
   "outputs": [
    {
     "data": {
      "text/plain": [
       "(17391, 12)"
      ]
     },
     "execution_count": 488,
     "metadata": {},
     "output_type": "execute_result"
    }
   ],
   "source": [
    "df_by_time.shape"
   ]
  },
  {
   "cell_type": "code",
   "execution_count": null,
   "metadata": {},
   "outputs": [],
   "source": []
  },
  {
   "cell_type": "code",
   "execution_count": 487,
   "metadata": {
    "scrolled": true
   },
   "outputs": [
    {
     "data": {
      "text/plain": [
       "(19809, 10)"
      ]
     },
     "execution_count": 487,
     "metadata": {},
     "output_type": "execute_result"
    }
   ],
   "source": [
    "df_filtered.shape"
   ]
  },
  {
   "cell_type": "code",
   "execution_count": 483,
   "metadata": {
    "scrolled": true
   },
   "outputs": [
    {
     "data": {
      "text/plain": [
       "Highway - Pothole                        2976\n",
       "A - Information Assessor                 1541\n",
       "Snow Removal Issues - Sanding Request    1123\n",
       "Tree Issues - City Owned Tree Issue       897\n",
       "Snow Removal Issues - Replow Request      718\n",
       "                                         ... \n",
       "Snow Removal Issues - Vehicle Damage        1\n",
       "Failure to Display Permit/License           1\n",
       "Traffic Light Camera                        1\n",
       "Illegal Posting                             1\n",
       "School Department                           1\n",
       "Name: Request Type, Length: 159, dtype: int64"
      ]
     },
     "execution_count": 483,
     "metadata": {},
     "output_type": "execute_result"
    }
   ],
   "source": [
    "df_filtered[\"Request Type\"].value_counts()"
   ]
  },
  {
   "cell_type": "code",
   "execution_count": null,
   "metadata": {},
   "outputs": [],
   "source": [
    "# Add data\n",
    "month = ['January', 'February', 'March', 'April', 'May', 'June', 'July',\n",
    "         'August', 'September', 'October', 'November', 'December']\n",
    "\n",
    "\n",
    "fig = go.Figure()\n",
    "# Create and style traces\n",
    "fig.add_trace(go.Scatter(x=month, y=values_17, name='2017',\n",
    "                         line=dict(color='royalblue', width=4)))\n",
    "fig.add_trace(go.Scatter(x=month, y=values_18, name = '2018',\n",
    "                         line=dict(color='green', width=4)))\n",
    "fig.add_trace(go.Scatter(x=month, y=values_19, name='2019',\n",
    "                         line=dict(color='firebrick', width=4,)))\n",
    "       \n",
    "\n",
    "\n",
    "# Edit the layout\n",
    "fig.update_layout(title='Trend in number of service requests - by year',\n",
    "                   xaxis_title='Month',\n",
    "                   yaxis_title='Cases Created ')\n",
    "\n"
   ]
  }
 ],
 "metadata": {
  "kernelspec": {
   "display_name": "Python 3",
   "language": "python",
   "name": "python3"
  },
  "language_info": {
   "codemirror_mode": {
    "name": "ipython",
    "version": 3
   },
   "file_extension": ".py",
   "mimetype": "text/x-python",
   "name": "python",
   "nbconvert_exporter": "python",
   "pygments_lexer": "ipython3",
   "version": "3.7.3"
  }
 },
 "nbformat": 4,
 "nbformat_minor": 2
}
